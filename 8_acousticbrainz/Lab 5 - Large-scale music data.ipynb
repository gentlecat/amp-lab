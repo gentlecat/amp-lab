{
 "cells": [
  {
   "cell_type": "markdown",
   "metadata": {},
   "source": [
    "# Lab 5: Large-scale music data\n",
    "\n",
    "**Roman Tsukanov**  \n",
    "SMC, 2016\n",
    "\n",
    "*http://www.dtic.upf.edu/~aporter/amplab/*"
   ]
  },
  {
   "cell_type": "markdown",
   "metadata": {},
   "source": [
    "## Creating dataset(s) based on Last.fm tags\n",
    "\n",
    "> **acousticbrainz-2015-01-lastfm-tags.csv.bz2 (69MB)**  \n",
    "> Contains tags scraped from Last.fm according to the track.getTopTags method.  \n",
    "Each row contains the MBID of a recording in the first column followed by pairs of data. The first item in a pair is a tag, and the second item is its count in that recording (see their documentation). These counts are normalised per recording, that is, a count of 100 means that it is the most common tag in that recording, not that it has been tagged with this tag 100 times.  \n",
    "Many of these tags could be used for genres or moods. Be careful, there are a lot of useless tags in this dataset."
   ]
  },
  {
   "cell_type": "code",
   "execution_count": 1,
   "metadata": {
    "collapsed": true
   },
   "outputs": [],
   "source": [
    "LASTFM_TAGS_FILE = \"acousticbrainz-2015-01-lastfm-tags.csv\""
   ]
  },
  {
   "cell_type": "code",
   "execution_count": 2,
   "metadata": {
    "collapsed": false
   },
   "outputs": [],
   "source": [
    "# The usual...\n",
    "import matplotlib.pyplot as plt\n",
    "import numpy as np\n",
    "import pandas\n",
    "import pprint\n",
    "%matplotlib inline\n",
    "%config InlineBackend.figure_formats = ['retina']"
   ]
  },
  {
   "cell_type": "code",
   "execution_count": 3,
   "metadata": {
    "collapsed": false
   },
   "outputs": [],
   "source": [
    "from itertools import izip\n",
    "from collections import defaultdict\n",
    "import os.path\n",
    "\n",
    "recordings = {}  # each recording is mapped to a list of (tag, normalized count) tuples\n",
    "tags = defaultdict(list)  # each tag is mapped to a list of (mbid, normalized count) tuples\n",
    "\n",
    "def pairwise(iterable):\n",
    "    i = iter(iterable)\n",
    "    return izip(i, i)\n",
    "\n",
    "with open(LASTFM_TAGS_FILE, 'r') as tags_file:\n",
    "    for line in tags_file:\n",
    "        line_list = line.strip().split(',')\n",
    "        mbid = line_list[0]\n",
    "        mbid_tags = []\n",
    "        for tag, count_norm in pairwise(line_list[1:]):\n",
    "            tag = tag.strip().lower()\n",
    "            mbid_tags.append((tag, count_norm))\n",
    "            tags[tag].append((mbid, count_norm))\n",
    "        recordings[mbid] = mbid_tags"
   ]
  },
  {
   "cell_type": "markdown",
   "metadata": {},
   "source": [
    "### Looking at the data"
   ]
  },
  {
   "cell_type": "code",
   "execution_count": 4,
   "metadata": {
    "collapsed": false
   },
   "outputs": [
    {
     "name": "stdout",
     "output_type": "stream",
     "text": [
      "Examples:\n",
      "\n",
      "02aee867-c503-4749-a877-5c923a6e0908:\n",
      "[('japanese', '100'),\n",
      " ('jpop', '100'),\n",
      " ('j-pop', '50'),\n",
      " ('female vocalists', '50'),\n",
      " ('asian', '50'),\n",
      " ('asian music', '50'),\n",
      " ('asian pop', '50')]\n",
      "\n",
      "00018ca8-d84c-4c3d-bcab-5f9a4b9e4e92:\n",
      "[('video game music', '100'),\n",
      " ('instrumental', '28'),\n",
      " ('soundtrack', '28'),\n",
      " ('classical', '14'),\n",
      " ('game music', '14'),\n",
      " ('orchestral', '14'),\n",
      " ('final fantasy', '14'),\n",
      " ('final fantasy xii', '14'),\n",
      " ('slobeat', '14')]\n"
     ]
    }
   ],
   "source": [
    "print(\"Examples:\")\n",
    "print(\"\\n02aee867-c503-4749-a877-5c923a6e0908:\")\n",
    "pprint.pprint(recordings[\"02aee867-c503-4749-a877-5c923a6e0908\"])\n",
    "print(\"\\n00018ca8-d84c-4c3d-bcab-5f9a4b9e4e92:\")\n",
    "pprint.pprint(recordings[\"00018ca8-d84c-4c3d-bcab-5f9a4b9e4e92\"])"
   ]
  },
  {
   "cell_type": "code",
   "execution_count": 5,
   "metadata": {
    "collapsed": false
   },
   "outputs": [
    {
     "name": "stdout",
     "output_type": "stream",
     "text": [
      "There are 513912 unique tags.\n"
     ]
    }
   ],
   "source": [
    "print(\"There are %s unique tags.\" % len(tags))"
   ]
  },
  {
   "cell_type": "code",
   "execution_count": 6,
   "metadata": {
    "collapsed": false,
    "scrolled": true
   },
   "outputs": [
    {
     "name": "stdout",
     "output_type": "stream",
     "text": [
      "20 most used tags:\n",
      "[('rock', 145779),\n",
      " ('alternative', 84933),\n",
      " ('pop', 81715),\n",
      " ('favorites', 63655),\n",
      " ('electronic', 54374),\n",
      " ('alternative rock', 53157),\n",
      " ('metal', 53069),\n",
      " ('indie', 52916),\n",
      " ('classic rock', 49091),\n",
      " ('female vocalists', 47768),\n",
      " ('beautiful', 46821),\n",
      " ('love', 45473),\n",
      " ('awesome', 44766),\n",
      " ('american', 42439),\n",
      " ('hard rock', 41520),\n",
      " ('90s', 40903),\n",
      " ('instrumental', 40201),\n",
      " ('male vocalists', 40196),\n",
      " ('00s', 39217),\n",
      " ('soundtrack', 38460)]\n"
     ]
    }
   ],
   "source": [
    "import operator\n",
    "print(\"20 most used tags:\")\n",
    "tag_occurences = defaultdict(int)\n",
    "for tag, recordings in tags.iteritems():\n",
    "    tag_occurences[tag] = len(recordings)\n",
    "tag_occurences_sorted = sorted(tag_occurences.items(), key=operator.itemgetter(1), reverse=True)\n",
    "pprint.pprint(tag_occurences_sorted[0:20])"
   ]
  },
  {
   "cell_type": "markdown",
   "metadata": {},
   "source": [
    "What else can be extracted, apart from genre?"
   ]
  },
  {
   "cell_type": "code",
   "execution_count": 7,
   "metadata": {
    "collapsed": false
   },
   "outputs": [
    {
     "name": "stdout",
     "output_type": "stream",
     "text": [
      "Quality of content - Good: 74421, Bad: 519\n",
      "Mood - Sad: 21000, Happy: 16095\n",
      "Female/Male - Female: 61227, Male: 43076\n",
      "Origin - American: 42439, British: 37694, German: 16989, Spanish: 2314\n",
      "Period - 20s: 271, 30s: 352, 40s: 556, 50s: 2901, 60s: 17808,\n",
      "\t 70s: 26209, 80s: 36596, 90s: 40903, 2000s: 51428, 2010s: 9579\n",
      "Rating (out of 10) - 0: 2, 1: 521, 2: 3201, 3: 2075, 4: 9075,\n",
      "\t\t\t 5: 7539, 6: 17580, 7: 13318, 8: 19426, 9: 9359, 10: 15681\n",
      "Rating (out of 5) - 0: 0, 1: 0, 2: 0, 3: 0, 4: 0, 5: 0\n"
     ]
    }
   ],
   "source": [
    "print(\"Quality of content - Good: %s, Bad: %s\" % (\n",
    "        tag_occurences[\"good\"] + tag_occurences[\"awesome\"] + tag_occurences[\"amazing\"],\n",
    "        tag_occurences[\"bad\"] + tag_occurences[\"awful\"] + tag_occurences[\"terrible\"],\n",
    "))\n",
    "print(\"Mood - Sad: %s, Happy: %s\" % (\n",
    "        tag_occurences[\"sad\"],\n",
    "        tag_occurences[\"happy\"]\n",
    "))\n",
    "print(\"Female/Male - Female: %s, Male: %s\" % (\n",
    "        tag_occurences[\"female vocalists\"] + tag_occurences[\"female\"],\n",
    "        tag_occurences[\"male vocalists\"] + tag_occurences[\"male\"],\n",
    "))\n",
    "print(\"Origin - American: %s, British: %s, German: %s, Spanish: %s\" % (\n",
    "        tag_occurences[\"american\"],\n",
    "        tag_occurences[\"british\"],\n",
    "        tag_occurences[\"german\"],\n",
    "        tag_occurences[\"spanish\"],\n",
    "))\n",
    "print(\"Period - 20s: %s, 30s: %s, 40s: %s, 50s: %s, 60s: %s,\\n\\t 70s: %s, 80s: %s, 90s: %s, 2000s: %s, 2010s: %s\" % (\n",
    "        tag_occurences[\"20s\"],\n",
    "        tag_occurences[\"30s\"],\n",
    "        tag_occurences[\"40s\"],\n",
    "        tag_occurences[\"50s\"],\n",
    "        tag_occurences[\"60s\"],\n",
    "        tag_occurences[\"70s\"],\n",
    "        tag_occurences[\"80s\"],\n",
    "        tag_occurences[\"90s\"],\n",
    "        tag_occurences[\"2000s\"] + tag_occurences[\"00s\"],\n",
    "        tag_occurences[\"2010s\"] + tag_occurences[\"10s\"],\n",
    "))\n",
    "print(\"Rating (out of 10) - 0: %s, 1: %s, 2: %s, 3: %s, 4: %s,\\n\\t\\t\\t 5: %s, 6: %s, 7: %s, 8: %s, 9: %s, 10: %s\" % (\n",
    "        tag_occurences[\"0 of 10 stars\"],\n",
    "        tag_occurences[\"1 of 10 stars\"],\n",
    "        tag_occurences[\"2 of 10 stars\"],\n",
    "        tag_occurences[\"3 of 10 stars\"],\n",
    "        tag_occurences[\"4 of 10 stars\"],\n",
    "        tag_occurences[\"5 of 10 stars\"],\n",
    "        tag_occurences[\"6 of 10 stars\"],\n",
    "        tag_occurences[\"7 of 10 stars\"],\n",
    "        tag_occurences[\"8 of 10 stars\"],\n",
    "        tag_occurences[\"9 of 10 stars\"],\n",
    "        tag_occurences[\"10 of 10 stars\"],\n",
    "))\n",
    "print(\"Rating (out of 5) - 0: %s, 1: %s, 2: %s, 3: %s, 4: %s, 5: %s\" % (\n",
    "        tag_occurences[\"0 of 5 stars\"],\n",
    "        tag_occurences[\"1 of 5 stars\"],\n",
    "        tag_occurences[\"2 of 5 stars\"],\n",
    "        tag_occurences[\"3 of 5 stars\"],\n",
    "        tag_occurences[\"4 of 5 stars\"],\n",
    "        tag_occurences[\"5 of 5 stars\"],\n",
    "))"
   ]
  },
  {
   "cell_type": "markdown",
   "metadata": {},
   "source": [
    "### Creating datasets"
   ]
  },
  {
   "cell_type": "code",
   "execution_count": 8,
   "metadata": {
    "collapsed": true
   },
   "outputs": [],
   "source": [
    "DATASETS_DIR = \"datasets\"\n",
    "if not os.path.exists(DATASETS_DIR):\n",
    "    os.makedirs(DATASETS_DIR)\n",
    "\n",
    "def get_top_recordings(tags_list, limit=None):\n",
    "    c_recordings = []\n",
    "    for tag in tags_list:\n",
    "        c_recordings += tags[tag]\n",
    "    c_recordings = sorted(c_recordings, key=lambda r: r[1], reverse=True)  # sorting by normalized count\n",
    "    rec_no_duplicates = []\n",
    "    mbid_seen = {}\n",
    "    for mbid, count in c_recordings:\n",
    "        if mbid not in mbid_seen:\n",
    "            mbid_seen[mbid] = True\n",
    "            rec_no_duplicates.append(mbid)\n",
    "    if limit:\n",
    "        return rec_no_duplicates[:limit]\n",
    "    return rec_no_duplicates"
   ]
  },
  {
   "cell_type": "code",
   "execution_count": 9,
   "metadata": {
    "collapsed": false
   },
   "outputs": [],
   "source": [
    "with open(os.path.join(DATASETS_DIR, \"mood.csv\"), \"w+\") as f:\n",
    "    limit = 1000\n",
    "    for mbid in get_top_recordings([\"happy\"], limit):\n",
    "        f.write(\"%s,%s\\n\" % (mbid, \"happy\"))\n",
    "    for mbid in get_top_recordings([\"sad\"], limit):\n",
    "        f.write(\"%s,%s\\n\" % (mbid, \"sad\"))"
   ]
  },
  {
   "cell_type": "code",
   "execution_count": 10,
   "metadata": {
    "collapsed": false
   },
   "outputs": [],
   "source": [
    "with open(os.path.join(DATASETS_DIR, \"quality.csv\"), \"w+\") as f:\n",
    "    limit = 519\n",
    "    for mbid in get_top_recordings([\"good\", \"awesome\", \"amazing\"], limit):\n",
    "        f.write(\"%s,%s\\n\" % (mbid, \"good\"))\n",
    "    for mbid in get_top_recordings([\"bad\", \"awful\", \"terrible\"], limit):\n",
    "        f.write(\"%s,%s\\n\" % (mbid, \"bad\"))"
   ]
  },
  {
   "cell_type": "code",
   "execution_count": 11,
   "metadata": {
    "collapsed": true
   },
   "outputs": [],
   "source": [
    "with open(os.path.join(DATASETS_DIR, \"origin.csv\"), \"w+\") as f:\n",
    "    limit = 1000\n",
    "    for mbid in get_top_recordings([\"american\"], limit):\n",
    "        f.write(\"%s,%s\\n\" % (mbid, \"american\"))\n",
    "    for mbid in get_top_recordings([\"british\"], limit):\n",
    "        f.write(\"%s,%s\\n\" % (mbid, \"british\"))\n",
    "    for mbid in get_top_recordings([\"german\"], limit):\n",
    "        f.write(\"%s,%s\\n\" % (mbid, \"german\"))\n",
    "    for mbid in get_top_recordings([\"spanish\"], limit):\n",
    "        f.write(\"%s,%s\\n\" % (mbid, \"spanish\"))"
   ]
  },
  {
   "cell_type": "code",
   "execution_count": 12,
   "metadata": {
    "collapsed": true
   },
   "outputs": [],
   "source": [
    "with open(os.path.join(DATASETS_DIR, \"period.csv\"), \"w+\") as f:\n",
    "    limit = 271\n",
    "    for mbid in get_top_recordings([\"20s\"], limit):\n",
    "        f.write(\"%s,%s\\n\" % (mbid, \"20s\"))\n",
    "    for mbid in get_top_recordings([\"30s\"], limit):\n",
    "        f.write(\"%s,%s\\n\" % (mbid, \"30s\"))\n",
    "    for mbid in get_top_recordings([\"40s\"], limit):\n",
    "        f.write(\"%s,%s\\n\" % (mbid, \"40s\"))\n",
    "    for mbid in get_top_recordings([\"50s\"], limit):\n",
    "        f.write(\"%s,%s\\n\" % (mbid, \"50s\"))\n",
    "    for mbid in get_top_recordings([\"60s\"], limit):\n",
    "        f.write(\"%s,%s\\n\" % (mbid, \"60s\"))\n",
    "    for mbid in get_top_recordings([\"70s\"], limit):\n",
    "        f.write(\"%s,%s\\n\" % (mbid, \"70s\"))\n",
    "    for mbid in get_top_recordings([\"80s\"], limit):\n",
    "        f.write(\"%s,%s\\n\" % (mbid, \"80s\"))\n",
    "    for mbid in get_top_recordings([\"90s\"], limit):\n",
    "        f.write(\"%s,%s\\n\" % (mbid, \"90s\"))\n",
    "    for mbid in get_top_recordings([\"2000s\", \"00s\"], limit):\n",
    "        f.write(\"%s,%s\\n\" % (mbid, \"2000s\"))\n",
    "    for mbid in get_top_recordings([\"2010s\", \"10s\"], limit):\n",
    "        f.write(\"%s,%s\\n\" % (mbid, \"2010s\"))"
   ]
  },
  {
   "cell_type": "markdown",
   "metadata": {},
   "source": [
    "The next step is to import these datasets into AcousticBrainz and do the evaluation.\n",
    "\n",
    "Datasets are at http://beta.acousticbrainz.org/user/Gentlecat."
   ]
  },
  {
   "cell_type": "markdown",
   "metadata": {},
   "source": [
    "## Some other random thing that I tried\n",
    "\n",
    "Wanted to do create a dataset with genres based on MusicBrainz tags, but someone else took related task before be so... Below is everything that I've planned and managed to get done.\n",
    "\n",
    "**Plan:**\n",
    "1. Get list of unique recording MBIDs from AcousticBrainz.\n",
    "2. Map them to tags on MusicBrainz (maybe somewhere else).  \n",
    "    2.1 Create another table (+ schema)  \n",
    "    2.2 Copy MBIDs into that table  \n",
    "    2.3 Join it with tags  \n",
    "    2.4 Dump a CSV file with MBIDs and associated tags\n",
    "3. Create a dataset from these tags.\n",
    "4. Evaluate that dataset. \n",
    "5. ???\n",
    "6. 💥\n",
    "\n",
    "### Getting unique recordings from AcousticBrainz\n",
    "\n",
    "Using *psql* copy list of unique MBIDs submitted to AcousticBrainz:\n",
    "```SQL\n",
    "\\copy (SELECT DISTINCT ON (mbid) mbid FROM lowlevel) TO 'mbids.txt';\n",
    "```\n",
    "\n",
    "### Mapping recordings to tags\n",
    "\n",
    "Then with MusicBrainz database:\n",
    "```SQL\n",
    "CREATE SCHEMA acousticbrainz;\n",
    "CREATE TABLE acousticbrainz.recordings (\n",
    "\tmbid UUID\n",
    ");\n",
    "COPY acousticbrainz.recordings FROM 'mbids.txt';\n",
    "```\n",
    "\n",
    "To get information about tags associated with recordings:\n",
    "```SQL\n",
    "SELECT abr.mbid, tag.name, rt.count\n",
    "FROM acousticbrainz.recordings abr\n",
    "JOIN musicbrainz.recording mbr ON mbr.gid = abr.mbid\n",
    "JOIN musicbrainz.recording_tag rt ON rt.recording = mbr.id\n",
    "JOIN musicbrainz.tag tag ON tag.id = rt.tag\n",
    "LIMIT 20; -- limit is optional\n",
    "```\n",
    "\n",
    "To get 50 most popular tags associated with recordings:\n",
    "```SQL\n",
    "SELECT tag.name, COUNT(*) as counter\n",
    "FROM acousticbrainz.recordings abr\n",
    "JOIN musicbrainz.recording mbr ON mbr.gid = abr.mbid\n",
    "JOIN musicbrainz.recording_tag rt ON rt.recording = mbr.id\n",
    "JOIN musicbrainz.tag tag ON tag.id = rt.tag\n",
    "GROUP BY tag.name\n",
    "ORDER BY counter DESC\n",
    "LIMIT 50;\n",
    "```\n",
    "\n",
    "_**Most of the tags on MusicBrainz are related to genre.**_"
   ]
  }
 ],
 "metadata": {
  "kernelspec": {
   "display_name": "Python 2",
   "language": "python",
   "name": "python2"
  },
  "language_info": {
   "codemirror_mode": {
    "name": "ipython",
    "version": 2
   },
   "file_extension": ".py",
   "mimetype": "text/x-python",
   "name": "python",
   "nbconvert_exporter": "python",
   "pygments_lexer": "ipython2",
   "version": "2.7.11"
  }
 },
 "nbformat": 4,
 "nbformat_minor": 0
}
